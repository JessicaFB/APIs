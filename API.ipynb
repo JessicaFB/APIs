{
 "cells": [
  {
   "cell_type": "markdown",
   "metadata": {
    "toc": true
   },
   "source": [
    "<h1>Table of Contents<span class=\"tocSkip\"></span></h1>\n",
    "<div class=\"toc\"><ul class=\"toc-item\"></ul></div>"
   ]
  },
  {
   "cell_type": "code",
   "execution_count": 9,
   "metadata": {},
   "outputs": [
    {
     "name": "stdout",
     "output_type": "stream",
     "text": [
      "200\n"
     ]
    }
   ],
   "source": [
    "import requests\n",
    "import json\n",
    "\n",
    "api_key = '11bae77b-8507-4947-98a8-9c553f01130c'\n",
    "site = 'hackforla.org'\n",
    "url = f\"https://api.builtwith.com/free1/api.json?KEY={api_key}&LOOKUP=builtwith.com\"\n",
    "\n",
    "res = requests.get(url)\n",
    "print(res.status_code)"
   ]
  },
  {
   "cell_type": "code",
   "execution_count": 10,
   "metadata": {},
   "outputs": [
    {
     "name": "stdout",
     "output_type": "stream",
     "text": [
      "dict_keys(['first', 'last', 'domain', 'groups'])\n",
      "\n",
      "\n",
      "{'first': 1187013600, 'last': 1624950000, 'domain': 'builtwith.com', 'groups': [{'name': 'payment', 'live': 5, 'dead': 5, 'latest': 1623852000, 'oldest': 1343570400, 'categories': [{'live': 0, 'dead': 2, 'latest': 1603177200, 'oldest': 1343570400, 'name': 'payments-processor'}, {'live': 1, 'dead': 3, 'latest': 1623852000, 'oldest': 1458738000, 'name': 'payment-acceptance'}, {'live': 2, 'dead': 0, 'latest': 1619820000, 'oldest': 1555250400, 'name': 'currency'}, {'live': 0, 'dead': 1, 'latest': 1603177200, 'oldest': 1589238000, 'name': 'checkout-buttons'}, {'live': 2, 'dead': 0, 'latest': 1623826800, 'oldest': 1622703600, 'name': 'bitcoin'}]}, {'name': 'ssl', 'live': 2, 'dead': 8, 'latest': 1624950000, 'oldest': 1372806000, 'categories': [{'live': 0, 'dead': 2, 'latest': 1568934000, 'oldest': 1452303436, 'name': 'extended-validation'}, {'live': 1, 'dead': 3, 'latest': 1624950000, 'oldest': 1372806000, 'name': 'root-authority'}, {'live': 0, 'dead': 1, 'latest': 1476745200, 'oldest': 1372806000, 'name': 'wildcard'}]}, {'name': 'ads', 'live': 1, 'dead': 4, 'latest': 1614758400, 'oldest': 1187013600, 'categories': [{'live': 0, 'dead': 1, 'latest': 1348668000, 'oldest': 1343570400, 'name': 'ad-network'}, {'live': 0, 'dead': 2, 'latest': 1605081600, 'oldest': 1343570400, 'name': 'retargeting-/-remarketing'}, {'live': 0, 'dead': 1, 'latest': 1369922400, 'oldest': 1187013600, 'name': 'contextual-advertising'}, {'live': 0, 'dead': 1, 'latest': 1579734000, 'oldest': 1555023600, 'name': 'demand-side-platform'}]}, {'name': 'analytics', 'live': 0, 'dead': 12, 'latest': 1605081600, 'oldest': 1187013600, 'categories': [{'live': 0, 'dead': 2, 'latest': 1605081600, 'oldest': 1448582400, 'name': 'conversion-optimization'}, {'live': 0, 'dead': 1, 'latest': 1605081600, 'oldest': 1482274800, 'name': 'conversion-tracking'}, {'live': 0, 'dead': 1, 'latest': 1514242800, 'oldest': 1448582400, 'name': 'a/b-testing'}, {'live': 0, 'dead': 1, 'latest': 1514242800, 'oldest': 1448582400, 'name': 'site-optimization'}, {'live': 0, 'dead': 1, 'latest': 1514242800, 'oldest': 1448582400, 'name': 'personalization'}, {'live': 0, 'dead': 1, 'latest': 1487545200, 'oldest': 1458738000, 'name': 'marketing-automation'}, {'live': 0, 'dead': 1, 'latest': 1476745200, 'oldest': 1393974328, 'name': 'social-management'}, {'live': 0, 'dead': 1, 'latest': 1593903600, 'oldest': 1187013600, 'name': 'application-performance'}, {'live': 0, 'dead': 1, 'latest': 1593903600, 'oldest': 1187013600, 'name': 'visitor-count-tracking'}, {'live': 0, 'dead': 2, 'latest': 1593903600, 'oldest': 1187013600, 'name': 'audience-measurement'}, {'live': 0, 'dead': 1, 'latest': 1453879729, 'oldest': 1453879729, 'name': 'fraud-prevention'}, {'live': 0, 'dead': 1, 'latest': 1262350800, 'oldest': 1192024800, 'name': 'mobile'}]}, {'name': 'framework', 'live': 6, 'dead': 3, 'latest': 1624518000, 'oldest': 1207663200, 'categories': [{'live': 3, 'dead': 0, 'latest': 1624518000, 'oldest': 1395356400, 'name': 'wordpress-theme'}]}, {'name': 'mapping', 'live': 0, 'dead': 2, 'latest': 1512082800, 'oldest': 1380236400, 'categories': [{'live': 0, 'dead': 1, 'latest': 1512082800, 'oldest': 1380236400, 'name': 'maps'}]}, {'name': 'cms', 'live': 3, 'dead': 27, 'latest': 1624518000, 'oldest': 1324213200, 'categories': [{'live': 0, 'dead': 1, 'latest': 1399186286, 'oldest': 1380236400, 'name': 'financial'}, {'live': 0, 'dead': 3, 'latest': 1554418800, 'oldest': 1430179200, 'name': 'enterprise'}, {'live': 1, 'dead': 1, 'latest': 1624518000, 'oldest': 1324213200, 'name': 'open-source'}, {'live': 1, 'dead': 2, 'latest': 1624518000, 'oldest': 1324213200, 'name': 'blog'}]}, {'name': 'widgets', 'live': 14, 'dead': 18, 'latest': 1624518000, 'oldest': 1187013600, 'categories': [{'live': 1, 'dead': 0, 'latest': 1624086000, 'oldest': 1593730800, 'name': 'captcha'}, {'live': 2, 'dead': 3, 'latest': 1624518000, 'oldest': 1394409954, 'name': 'wordpress-plugins'}, {'live': 4, 'dead': 1, 'latest': 1623481200, 'oldest': 1450450710, 'name': 'image-provider'}, {'live': 0, 'dead': 2, 'latest': 1370559600, 'oldest': 1294059600, 'name': 'feedback-forms-and-surveys'}, {'live': 0, 'dead': 1, 'latest': 1530572400, 'oldest': 1390274100, 'name': 'charting'}, {'live': 0, 'dead': 2, 'latest': 1430556570, 'oldest': 1187013600, 'name': 'social-sharing'}, {'live': 0, 'dead': 2, 'latest': 1530572400, 'oldest': 1401853197, 'name': 'site-search'}, {'live': 1, 'dead': 1, 'latest': 1624518000, 'oldest': 1403046000, 'name': 'fonts'}, {'live': 0, 'dead': 1, 'latest': 1192024800, 'oldest': 1187013600, 'name': 'bookmarking'}, {'live': 1, 'dead': 0, 'latest': 1623826800, 'oldest': 1622703600, 'name': 'login'}]}, {'name': 'javascript', 'live': 23, 'dead': 39, 'latest': 1624950000, 'oldest': 1187013600, 'categories': [{'live': 2, 'dead': 8, 'latest': 1624518000, 'oldest': 1343570400, 'name': 'jquery-plugin'}, {'live': 0, 'dead': 2, 'latest': 1530572400, 'oldest': 1384297200, 'name': 'animation'}, {'live': 1, 'dead': 4, 'latest': 1624950000, 'oldest': 1187013600, 'name': 'javascript-library'}, {'live': 2, 'dead': 2, 'latest': 1624518000, 'oldest': 1518735600, 'name': 'compatibility'}, {'live': 3, 'dead': 2, 'latest': 1623826800, 'oldest': 1364302800, 'name': 'ui'}, {'live': 0, 'dead': 1, 'latest': 1530572400, 'oldest': 1509490800, 'name': 'charting'}, {'live': 2, 'dead': 0, 'latest': 1624950000, 'oldest': 1530831600, 'name': 'framework'}]}, {'name': 'media', 'live': 2, 'dead': 0, 'latest': 1614844800, 'oldest': 1510009200, 'categories': [{'live': 2, 'dead': 0, 'latest': 1614844800, 'oldest': 1510009200, 'name': 'video-players'}, {'live': 1, 'dead': 0, 'latest': 1614844800, 'oldest': 1599634800, 'name': 'online-video-platform'}]}, {'name': 'language', 'live': 15, 'dead': 1, 'latest': 1624950000, 'oldest': 1548198000, 'categories': []}, {'name': 'mobile', 'live': 4, 'dead': 1, 'latest': 1624950000, 'oldest': 1415587208, 'categories': []}, {'name': 'Web Master', 'live': 0, 'dead': 5, 'latest': 1518735600, 'oldest': 1192024800, 'categories': []}, {'name': 'shop', 'live': 1, 'dead': 0, 'latest': 1624518000, 'oldest': 1527721200, 'categories': [{'live': 1, 'dead': 0, 'latest': 1624518000, 'oldest': 1527721200, 'name': 'non-platform'}]}, {'name': 'copyright', 'live': 0, 'dead': 3, 'latest': 1593903600, 'oldest': 1488582000, 'categories': []}, {'name': 'Web Server', 'live': 3, 'dead': 6, 'latest': 1624950000, 'oldest': 1294059600, 'categories': []}, {'name': 'hosting', 'live': 7, 'dead': 4, 'latest': 1624950000, 'oldest': 1345730400, 'categories': [{'live': 1, 'dead': 1, 'latest': 1618210800, 'oldest': 1379286000, 'name': 'vps-hosting'}, {'live': 3, 'dead': 2, 'latest': 1624690800, 'oldest': 1379286000, 'name': 'us-hosting'}, {'live': 1, 'dead': 1, 'latest': 1624950000, 'oldest': 1345730400, 'name': 'dedicated-hosting'}, {'live': 0, 'dead': 1, 'latest': 1376866800, 'oldest': 1345730400, 'name': 'german-hosting'}, {'live': 1, 'dead': 0, 'latest': 1624950000, 'oldest': 1389222000, 'name': 'canadian-hosting'}, {'live': 1, 'dead': 0, 'latest': 1624950000, 'oldest': 1389222000, 'name': 'french-hosting'}, {'live': 1, 'dead': 0, 'latest': 1624690800, 'oldest': 1588201200, 'name': 'cloud-hosting'}, {'live': 1, 'dead': 1, 'latest': 1624690800, 'oldest': 1555023600, 'name': 'cloud-paas'}]}, {'name': 'cdn', 'live': 6, 'dead': 4, 'latest': 1624950000, 'oldest': 1187013600, 'categories': []}, {'name': 'feeds', 'live': 4, 'dead': 1, 'latest': 1624518000, 'oldest': 1187013600, 'categories': []}, {'name': 'Server', 'live': 0, 'dead': 2, 'latest': 1603494000, 'oldest': 1324213200, 'categories': []}, {'name': 'cdns', 'live': 1, 'dead': 1, 'latest': 1624690800, 'oldest': 1386284400, 'categories': [{'live': 0, 'dead': 1, 'latest': 1577142000, 'oldest': 1386284400, 'name': 'edge-delivery-network'}]}, {'name': 'ns', 'live': 3, 'dead': 1, 'latest': 1624950000, 'oldest': 1346972400, 'categories': [{'live': 1, 'dead': 0, 'latest': 1624950000, 'oldest': 1370905200, 'name': 'enterprise-dns'}, {'live': 1, 'dead': 0, 'latest': 1624777200, 'oldest': 1600930800, 'name': 'tld-redirects'}]}, {'name': 'mx', 'live': 5, 'dead': 3, 'latest': 1624950000, 'oldest': 1315749600, 'categories': [{'live': 0, 'dead': 1, 'latest': 1369922400, 'oldest': 1346940000, 'name': 'web-hosting-provider-email'}, {'live': 0, 'dead': 1, 'latest': 1412563029, 'oldest': 1344520800, 'name': 'campaign-management'}, {'live': 1, 'dead': 1, 'latest': 1624950000, 'oldest': 1344520800, 'name': 'transactional-email'}, {'live': 1, 'dead': 0, 'latest': 1624950000, 'oldest': 1315749600, 'name': 'business-email-hosting'}, {'live': 1, 'dead': 0, 'latest': 1624690800, 'oldest': 1410476400, 'name': 'dmarc'}]}, {'name': 'CDN', 'live': 1, 'dead': 0, 'latest': 1624518000, 'oldest': 1286197200, 'categories': []}, {'name': 'link', 'live': 1, 'dead': 0, 'latest': 1624950000, 'oldest': 1537138800, 'categories': []}, {'name': 'robots', 'live': 1, 'dead': 0, 'latest': 1624950000, 'oldest': 1600383600, 'categories': []}]}\n"
     ]
    }
   ],
   "source": [
    "data = res.json()\n",
    "print(data.keys())\n",
    "print('\\n')\n",
    "print(data)"
   ]
  },
  {
   "cell_type": "code",
   "execution_count": 11,
   "metadata": {},
   "outputs": [
    {
     "name": "stdout",
     "output_type": "stream",
     "text": [
      "dict_keys(['first', 'last', 'domain', 'groups'])\n",
      "{'first': 1187013600, 'last': 1624950000, 'domain': 'builtwith.com', 'groups': [{'name': 'payment', 'live': 5, 'dead': 5, 'latest': 1623852000, 'oldest': 1343570400, 'categories': [{'live': 0, 'dead': 2, 'latest': 1603177200, 'oldest': 1343570400, 'name': 'payments-processor'}, {'live': 1, 'dead': 3, 'latest': 1623852000, 'oldest': 1458738000, 'name': 'payment-acceptance'}, {'live': 2, 'dead': 0, 'latest': 1619820000, 'oldest': 1555250400, 'name': 'currency'}, {'live': 0, 'dead': 1, 'latest': 1603177200, 'oldest': 1589238000, 'name': 'checkout-buttons'}, {'live': 2, 'dead': 0, 'latest': 1623826800, 'oldest': 1622703600, 'name': 'bitcoin'}]}, {'name': 'ssl', 'live': 2, 'dead': 8, 'latest': 1624950000, 'oldest': 1372806000, 'categories': [{'live': 0, 'dead': 2, 'latest': 1568934000, 'oldest': 1452303436, 'name': 'extended-validation'}, {'live': 1, 'dead': 3, 'latest': 1624950000, 'oldest': 1372806000, 'name': 'root-authority'}, {'live': 0, 'dead': 1, 'latest': 1476745200, 'oldest': 1372806000, 'name': 'wildcard'}]}, {'name': 'ads', 'live': 1, 'dead': 4, 'latest': 1614758400, 'oldest': 1187013600, 'categories': [{'live': 0, 'dead': 1, 'latest': 1348668000, 'oldest': 1343570400, 'name': 'ad-network'}, {'live': 0, 'dead': 2, 'latest': 1605081600, 'oldest': 1343570400, 'name': 'retargeting-/-remarketing'}, {'live': 0, 'dead': 1, 'latest': 1369922400, 'oldest': 1187013600, 'name': 'contextual-advertising'}, {'live': 0, 'dead': 1, 'latest': 1579734000, 'oldest': 1555023600, 'name': 'demand-side-platform'}]}, {'name': 'analytics', 'live': 0, 'dead': 12, 'latest': 1605081600, 'oldest': 1187013600, 'categories': [{'live': 0, 'dead': 2, 'latest': 1605081600, 'oldest': 1448582400, 'name': 'conversion-optimization'}, {'live': 0, 'dead': 1, 'latest': 1605081600, 'oldest': 1482274800, 'name': 'conversion-tracking'}, {'live': 0, 'dead': 1, 'latest': 1514242800, 'oldest': 1448582400, 'name': 'a/b-testing'}, {'live': 0, 'dead': 1, 'latest': 1514242800, 'oldest': 1448582400, 'name': 'site-optimization'}, {'live': 0, 'dead': 1, 'latest': 1514242800, 'oldest': 1448582400, 'name': 'personalization'}, {'live': 0, 'dead': 1, 'latest': 1487545200, 'oldest': 1458738000, 'name': 'marketing-automation'}, {'live': 0, 'dead': 1, 'latest': 1476745200, 'oldest': 1393974328, 'name': 'social-management'}, {'live': 0, 'dead': 1, 'latest': 1593903600, 'oldest': 1187013600, 'name': 'application-performance'}, {'live': 0, 'dead': 1, 'latest': 1593903600, 'oldest': 1187013600, 'name': 'visitor-count-tracking'}, {'live': 0, 'dead': 2, 'latest': 1593903600, 'oldest': 1187013600, 'name': 'audience-measurement'}, {'live': 0, 'dead': 1, 'latest': 1453879729, 'oldest': 1453879729, 'name': 'fraud-prevention'}, {'live': 0, 'dead': 1, 'latest': 1262350800, 'oldest': 1192024800, 'name': 'mobile'}]}, {'name': 'framework', 'live': 6, 'dead': 3, 'latest': 1624518000, 'oldest': 1207663200, 'categories': [{'live': 3, 'dead': 0, 'latest': 1624518000, 'oldest': 1395356400, 'name': 'wordpress-theme'}]}, {'name': 'mapping', 'live': 0, 'dead': 2, 'latest': 1512082800, 'oldest': 1380236400, 'categories': [{'live': 0, 'dead': 1, 'latest': 1512082800, 'oldest': 1380236400, 'name': 'maps'}]}, {'name': 'cms', 'live': 3, 'dead': 27, 'latest': 1624518000, 'oldest': 1324213200, 'categories': [{'live': 0, 'dead': 1, 'latest': 1399186286, 'oldest': 1380236400, 'name': 'financial'}, {'live': 0, 'dead': 3, 'latest': 1554418800, 'oldest': 1430179200, 'name': 'enterprise'}, {'live': 1, 'dead': 1, 'latest': 1624518000, 'oldest': 1324213200, 'name': 'open-source'}, {'live': 1, 'dead': 2, 'latest': 1624518000, 'oldest': 1324213200, 'name': 'blog'}]}, {'name': 'widgets', 'live': 14, 'dead': 18, 'latest': 1624518000, 'oldest': 1187013600, 'categories': [{'live': 1, 'dead': 0, 'latest': 1624086000, 'oldest': 1593730800, 'name': 'captcha'}, {'live': 2, 'dead': 3, 'latest': 1624518000, 'oldest': 1394409954, 'name': 'wordpress-plugins'}, {'live': 4, 'dead': 1, 'latest': 1623481200, 'oldest': 1450450710, 'name': 'image-provider'}, {'live': 0, 'dead': 2, 'latest': 1370559600, 'oldest': 1294059600, 'name': 'feedback-forms-and-surveys'}, {'live': 0, 'dead': 1, 'latest': 1530572400, 'oldest': 1390274100, 'name': 'charting'}, {'live': 0, 'dead': 2, 'latest': 1430556570, 'oldest': 1187013600, 'name': 'social-sharing'}, {'live': 0, 'dead': 2, 'latest': 1530572400, 'oldest': 1401853197, 'name': 'site-search'}, {'live': 1, 'dead': 1, 'latest': 1624518000, 'oldest': 1403046000, 'name': 'fonts'}, {'live': 0, 'dead': 1, 'latest': 1192024800, 'oldest': 1187013600, 'name': 'bookmarking'}, {'live': 1, 'dead': 0, 'latest': 1623826800, 'oldest': 1622703600, 'name': 'login'}]}, {'name': 'javascript', 'live': 23, 'dead': 39, 'latest': 1624950000, 'oldest': 1187013600, 'categories': [{'live': 2, 'dead': 8, 'latest': 1624518000, 'oldest': 1343570400, 'name': 'jquery-plugin'}, {'live': 0, 'dead': 2, 'latest': 1530572400, 'oldest': 1384297200, 'name': 'animation'}, {'live': 1, 'dead': 4, 'latest': 1624950000, 'oldest': 1187013600, 'name': 'javascript-library'}, {'live': 2, 'dead': 2, 'latest': 1624518000, 'oldest': 1518735600, 'name': 'compatibility'}, {'live': 3, 'dead': 2, 'latest': 1623826800, 'oldest': 1364302800, 'name': 'ui'}, {'live': 0, 'dead': 1, 'latest': 1530572400, 'oldest': 1509490800, 'name': 'charting'}, {'live': 2, 'dead': 0, 'latest': 1624950000, 'oldest': 1530831600, 'name': 'framework'}]}, {'name': 'media', 'live': 2, 'dead': 0, 'latest': 1614844800, 'oldest': 1510009200, 'categories': [{'live': 2, 'dead': 0, 'latest': 1614844800, 'oldest': 1510009200, 'name': 'video-players'}, {'live': 1, 'dead': 0, 'latest': 1614844800, 'oldest': 1599634800, 'name': 'online-video-platform'}]}, {'name': 'language', 'live': 15, 'dead': 1, 'latest': 1624950000, 'oldest': 1548198000, 'categories': []}, {'name': 'mobile', 'live': 4, 'dead': 1, 'latest': 1624950000, 'oldest': 1415587208, 'categories': []}, {'name': 'Web Master', 'live': 0, 'dead': 5, 'latest': 1518735600, 'oldest': 1192024800, 'categories': []}, {'name': 'shop', 'live': 1, 'dead': 0, 'latest': 1624518000, 'oldest': 1527721200, 'categories': [{'live': 1, 'dead': 0, 'latest': 1624518000, 'oldest': 1527721200, 'name': 'non-platform'}]}, {'name': 'copyright', 'live': 0, 'dead': 3, 'latest': 1593903600, 'oldest': 1488582000, 'categories': []}, {'name': 'Web Server', 'live': 3, 'dead': 6, 'latest': 1624950000, 'oldest': 1294059600, 'categories': []}, {'name': 'hosting', 'live': 7, 'dead': 4, 'latest': 1624950000, 'oldest': 1345730400, 'categories': [{'live': 1, 'dead': 1, 'latest': 1618210800, 'oldest': 1379286000, 'name': 'vps-hosting'}, {'live': 3, 'dead': 2, 'latest': 1624690800, 'oldest': 1379286000, 'name': 'us-hosting'}, {'live': 1, 'dead': 1, 'latest': 1624950000, 'oldest': 1345730400, 'name': 'dedicated-hosting'}, {'live': 0, 'dead': 1, 'latest': 1376866800, 'oldest': 1345730400, 'name': 'german-hosting'}, {'live': 1, 'dead': 0, 'latest': 1624950000, 'oldest': 1389222000, 'name': 'canadian-hosting'}, {'live': 1, 'dead': 0, 'latest': 1624950000, 'oldest': 1389222000, 'name': 'french-hosting'}, {'live': 1, 'dead': 0, 'latest': 1624690800, 'oldest': 1588201200, 'name': 'cloud-hosting'}, {'live': 1, 'dead': 1, 'latest': 1624690800, 'oldest': 1555023600, 'name': 'cloud-paas'}]}, {'name': 'cdn', 'live': 6, 'dead': 4, 'latest': 1624950000, 'oldest': 1187013600, 'categories': []}, {'name': 'feeds', 'live': 4, 'dead': 1, 'latest': 1624518000, 'oldest': 1187013600, 'categories': []}, {'name': 'Server', 'live': 0, 'dead': 2, 'latest': 1603494000, 'oldest': 1324213200, 'categories': []}, {'name': 'cdns', 'live': 1, 'dead': 1, 'latest': 1624690800, 'oldest': 1386284400, 'categories': [{'live': 0, 'dead': 1, 'latest': 1577142000, 'oldest': 1386284400, 'name': 'edge-delivery-network'}]}, {'name': 'ns', 'live': 3, 'dead': 1, 'latest': 1624950000, 'oldest': 1346972400, 'categories': [{'live': 1, 'dead': 0, 'latest': 1624950000, 'oldest': 1370905200, 'name': 'enterprise-dns'}, {'live': 1, 'dead': 0, 'latest': 1624777200, 'oldest': 1600930800, 'name': 'tld-redirects'}]}, {'name': 'mx', 'live': 5, 'dead': 3, 'latest': 1624950000, 'oldest': 1315749600, 'categories': [{'live': 0, 'dead': 1, 'latest': 1369922400, 'oldest': 1346940000, 'name': 'web-hosting-provider-email'}, {'live': 0, 'dead': 1, 'latest': 1412563029, 'oldest': 1344520800, 'name': 'campaign-management'}, {'live': 1, 'dead': 1, 'latest': 1624950000, 'oldest': 1344520800, 'name': 'transactional-email'}, {'live': 1, 'dead': 0, 'latest': 1624950000, 'oldest': 1315749600, 'name': 'business-email-hosting'}, {'live': 1, 'dead': 0, 'latest': 1624690800, 'oldest': 1410476400, 'name': 'dmarc'}]}, {'name': 'CDN', 'live': 1, 'dead': 0, 'latest': 1624518000, 'oldest': 1286197200, 'categories': []}, {'name': 'link', 'live': 1, 'dead': 0, 'latest': 1624950000, 'oldest': 1537138800, 'categories': []}, {'name': 'robots', 'live': 1, 'dead': 0, 'latest': 1624950000, 'oldest': 1600383600, 'categories': []}]}\n"
     ]
    }
   ],
   "source": [
    "f = open(\"hackforla.json\", \"w\")\n",
    "json.dump(data,f, indent=4)\n",
    "print(data.keys())\n",
    "print(data)"
   ]
  },
  {
   "cell_type": "code",
   "execution_count": null,
   "metadata": {},
   "outputs": [],
   "source": []
  },
  {
   "cell_type": "code",
   "execution_count": null,
   "metadata": {},
   "outputs": [],
   "source": []
  }
 ],
 "metadata": {
  "kernelspec": {
   "display_name": "Python [conda env:learn-env] *",
   "language": "python",
   "name": "conda-env-learn-env-py"
  },
  "language_info": {
   "codemirror_mode": {
    "name": "ipython",
    "version": 3
   },
   "file_extension": ".py",
   "mimetype": "text/x-python",
   "name": "python",
   "nbconvert_exporter": "python",
   "pygments_lexer": "ipython3",
   "version": "3.6.9"
  },
  "toc": {
   "base_numbering": 1,
   "nav_menu": {},
   "number_sections": true,
   "sideBar": true,
   "skip_h1_title": false,
   "title_cell": "Table of Contents",
   "title_sidebar": "Contents",
   "toc_cell": true,
   "toc_position": {},
   "toc_section_display": true,
   "toc_window_display": false
  }
 },
 "nbformat": 4,
 "nbformat_minor": 2
}
